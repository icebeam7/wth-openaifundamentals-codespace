{
  "cells": [
    {
      "cell_type": "markdown",
      "metadata": {
        "nteract": {
          "transient": {
            "deleting": false
          }
        }
      },
      "source": [
        "# Challenge 01 - Prompt Engineering"
      ]
    },
    {
      "cell_type": "markdown",
      "metadata": {
        "nteract": {
          "transient": {
            "deleting": false
          }
        }
      },
      "source": [
        "Quick tip! To view the Table of Contents for this Notebook in VS Code, in the \"Explorer\" tab, expand the \"Outline\" section. If using Azure AI Machine Learning Studio, click the hamburger icon in the top left > View > Table of Contents."
      ]
    },
    {
      "cell_type": "markdown",
      "metadata": {
        "nteract": {
          "transient": {
            "deleting": false
          }
        }
      },
      "source": [
        "## 1. Parameter Experimentation\n",
        "Let's first set up the Challenge. Load the API key and relevant Python libraries using the cells below."
      ]
    },
    {
      "cell_type": "markdown",
      "metadata": {
        "nteract": {
          "transient": {
            "deleting": false
          }
        }
      },
      "source": [
        "### 1.1 Preparation\n",
        "#### 1.1.1 Environment Setup\n"
      ]
    },
    {
      "cell_type": "markdown",
      "metadata": {
        "nteract": {
          "transient": {
            "deleting": false
          }
        }
      },
      "source": [
        "#### Create or Update the environment file \".env\"\n",
        "Create or update an environment file named as `.env` under the same folder with your notebooks.\n",
        "\n",
        "We've included a sample environment file for your reference. You can find the `sample-env.txt` file in the Student `Resources.zip` file. Please feel free to make any modification as needed and rename the file as `.env`. \n",
        "\n",
        "**NOTE:** Make sure to keep the name of each model the same as the model deployment name you set in Azure OpenAI.\n",
        "\n",
        "**NOTE:** Please be aware that some AOAI models are deprecated. You should create the ones available as needed instead. To complete this challenge, gpt-35-turbo is the only model you need.\n",
        "\n",
        "For information on current models, see: [Azure OpenAI Service models](https://learn.microsoft.com/en-us/azure/ai-services/openai/concepts/models)"
      ]
    },
    {
      "cell_type": "markdown",
      "metadata": {
        "nteract": {
          "transient": {
            "deleting": false
          }
        }
      },
      "source": [
        "If you are using Azure ML Studio, if you want to change the model name in the environment file, please run the following code to make a change"
      ]
    },
    {
      "cell_type": "code",
      "execution_count": null,
      "metadata": {
        "gather": {
          "logged": 1686934377762
        },
        "jupyter": {
          "outputs_hidden": false,
          "source_hidden": false
        },
        "nteract": {
          "transient": {
            "deleting": false
          }
        }
      },
      "outputs": [],
      "source": [
        "# os.environ[{MODEL YOU WANT TO CHANGE}] = {NEW MODEL NAME}\n",
        "# print({MODEL NAME})"
      ]
    },
    {
      "cell_type": "markdown",
      "metadata": {
        "nteract": {
          "transient": {
            "deleting": false
          }
        }
      },
      "source": [
        "####  Set up Azure OpenAI Environment"
      ]
    },
    {
      "cell_type": "code",
      "execution_count": 1,
      "metadata": {
        "gather": {
          "logged": 1686932813309
        },
        "jupyter": {
          "outputs_hidden": false,
          "source_hidden": false
        },
        "nteract": {
          "transient": {
            "deleting": false
          }
        }
      },
      "outputs": [
        {
          "data": {
            "text/plain": [
              "True"
            ]
          },
          "execution_count": 1,
          "metadata": {},
          "output_type": "execute_result"
        }
      ],
      "source": [
        "import openai\n",
        "import os\n",
        "import json\n",
        "from dotenv import load_dotenv, find_dotenv\n",
        "load_dotenv(find_dotenv())\n"
      ]
    },
    {
      "cell_type": "code",
      "execution_count": 2,
      "metadata": {
        "gather": {
          "logged": 1686933122347
        },
        "jupyter": {
          "outputs_hidden": false,
          "source_hidden": false
        },
        "nteract": {
          "transient": {
            "deleting": false
          }
        }
      },
      "outputs": [],
      "source": [
        "API_KEY = os.getenv(\"OPENAI_API_KEY\")\n",
        "assert API_KEY, \"ERROR: Azure OpenAI Key is missing\"\n",
        "openai.api_key = API_KEY\n",
        "\n",
        "RESOURCE_ENDPOINT = os.getenv(\"OPENAI_API_BASE\",\"\").strip()\n",
        "assert RESOURCE_ENDPOINT, \"ERROR: Azure OpenAI Endpoint is missing\"\n",
        "assert \"openai.azure.com\" in RESOURCE_ENDPOINT.lower(), \"ERROR: Azure OpenAI Endpoint should be in the form: \\n\\n\\t<your unique endpoint identifier>.openai.azure.com\"\n",
        "\n",
        "openai.api_base = RESOURCE_ENDPOINT\n",
        "openai.api_type = os.getenv(\"OPENAI_API_TYPE\")\n",
        "openai.api_version = os.getenv(\"OPENAI_API_VERSION\")\n",
        "\n",
        "chat_model=os.getenv(\"CHAT_MODEL_NAME\")\n"
      ]
    },
    {
      "cell_type": "markdown",
      "metadata": {
        "nteract": {
          "transient": {
            "deleting": false
          }
        }
      },
      "source": [
        "#### 1.1.2 Parameter Explanation\n",
        "We specify the hyperparameters for the Azure OpenAI models within the helper functions. Users can tune the parameters according to different needs.\n",
        "\n",
        "\n",
        "###### **Temperature**\n",
        "Temperature ranges from 0 to 2.\n",
        "Here is a quick breakdown of how it works:\n",
        "- Low temperature (0 to 0.3): More focused, coherent, and conservative outputs.\n",
        "- Medium temperature (0.3 to 0.7): Balanced creativity and coherence.\n",
        "- High temperature (> 0.7): Highly creative and diverse, but potentially less coherent.\n",
        "\n",
        "###### **Top_p**\n",
        "Sets the probability mass cutoff for token sampling, affecting the breadth of options the AI considers. \n",
        "Higher values lead to more randomness, while lower values result in more focused outputs.\n",
        "\n",
        "The “top_p” parameter is like a filter that controls how many different words or phrases the language model considers when it’s trying to predict the next word. If you set the “top p” value to 0.5, the language model will only consider the 50 most likely words or phrases that might come next. But if you set the “top p” value to 0.9, the language model will consider the 90 most likely words or phrases.\n",
        "\n",
        "And as \"top_p\" and \"temperature\" performs similar job as hyperparameter, we usually only tune one of them instead of both.\n",
        "\n",
        "###### **Max_tokens**\n",
        "Max_tokens determine the maximum length of the generated text. By setting a limit, you can control how much text the LLM model will return, making sure it doesn't give too long of an answer.\n",
        "\n",
        "###### **Frequency_penalty**\n",
        "Frequency_penalty makes sure that the text that is generated is varied by giving a penalty to tokens that have already been used in the response.\n",
        "\n",
        "It ranges from -2.0 to 2.0, with higher values resulting in more diverse output.\n",
        "\n",
        "Positive values penalize new tokens based on their existing frequency in the text so far, decreasing the model's likelihood to repeat the same line verbatim."
      ]
    },
    {
      "cell_type": "markdown",
      "metadata": {
        "nteract": {
          "transient": {
            "deleting": false
          }
        }
      },
      "source": [
        "#### 1.1.3 Helper Function\n",
        "Throughout this hack, we will use OpenAI's `gpt-3.5-turbo` model and the [chat completions endpoint](https://platform.openai.com/docs/guides/chat). \n",
        "\n",
        "This helper function will make it easier to use prompts and look at the generated outputs.\n",
        "\n",
        "**get_chat_completion** helps create the OpenAI response using the chat model of your choice.\n",
        "\n",
        "**get_completion_from_messages** helps create the OpenAI response using the chat model of your choice, enabling chat history.\n"
      ]
    },
    {
      "cell_type": "code",
      "execution_count": 3,
      "metadata": {
        "gather": {
          "logged": 1686938673045
        },
        "jupyter": {
          "outputs_hidden": false,
          "source_hidden": false
        },
        "nteract": {
          "transient": {
            "deleting": false
          }
        }
      },
      "outputs": [],
      "source": [
        "def get_chat_completion(prompt, model=chat_model):\n",
        "    messages = [{\"role\": \"user\", \"content\": prompt}]\n",
        "    response = openai.ChatCompletion.create(\n",
        "        engine=model,\n",
        "        messages=messages,\n",
        "        temperature=0, # this is the degree of randomness of the model's output\n",
        "        max_tokens = 200,\n",
        "        top_p = 1.0\n",
        "    )\n",
        "    return response.choices[0].message[\"content\"]"
      ]
    },
    {
      "cell_type": "code",
      "execution_count": 5,
      "metadata": {
        "gather": {
          "logged": 1686938550664
        },
        "jupyter": {
          "outputs_hidden": false,
          "source_hidden": false
        },
        "nteract": {
          "transient": {
            "deleting": false
          }
        }
      },
      "outputs": [],
      "source": [
        "def get_completion_from_messages(messages, model=chat_model, temperature=0):\n",
        "    response = openai.ChatCompletion.create(\n",
        "        engine=model,\n",
        "        messages=messages,\n",
        "        temperature=temperature # this is the degree of randomness of the model's output\n",
        "    )\n",
        "\n",
        "    return response.choices[0].message[\"content\"]\n",
        "\n"
      ]
    },
    {
      "cell_type": "markdown",
      "metadata": {
        "nteract": {
          "transient": {
            "deleting": false
          }
        }
      },
      "source": [
        "#### Try out helper functions"
      ]
    },
    {
      "cell_type": "code",
      "execution_count": 6,
      "metadata": {
        "gather": {
          "logged": 1686938676516
        },
        "jupyter": {
          "outputs_hidden": false,
          "source_hidden": false
        },
        "nteract": {
          "transient": {
            "deleting": false
          }
        }
      },
      "outputs": [
        {
          "name": "stdout",
          "output_type": "stream",
          "text": [
            "Why did the tomato turn red? Because it saw the salad dressing!\n"
          ]
        }
      ],
      "source": [
        "messages =  f\"\"\"\n",
        "tell me a joke.\n",
        "\"\"\"\n",
        "response = get_chat_completion(messages)\n",
        "print(response)"
      ]
    },
    {
      "cell_type": "code",
      "execution_count": 10,
      "metadata": {
        "gather": {
          "logged": 1686938564787
        },
        "jupyter": {
          "outputs_hidden": false,
          "source_hidden": false
        },
        "nteract": {
          "transient": {
            "deleting": false
          }
        }
      },
      "outputs": [
        {
          "name": "stdout",
          "output_type": "stream",
          "text": [
            "La constitución es un libro muy importante que dice las reglas a seguir para que el país funcione bien. Es como un gran manual de cómo deben ser las cosas, como elegir a los gobernantes, cómo funcionan las leyes y cómo se protegen los derechos de las personas. Es como un mapa que nos guía para que todos vivamos juntos en paz y armonía.\n"
          ]
        }
      ],
      "source": [
        "#messages =  [      \n",
        "#    {'role':'user', 'content':'tell me a joke'},   \n",
        "#    {'role':'assistant', 'content':'Why did the chicken cross the road'},   \n",
        "#    {'role':'user', 'content':'I don\\'t know'}\n",
        "#]\n",
        "#messages =  [      \n",
        "#    {'role':'user', 'content':'I love this book!'},   \n",
        "#    {'role':'assistant', 'content':'Me encanta este libro!'},   \n",
        "#    {'role':'user', 'content':'I don\\'t know'}\n",
        "#]\n",
        "messages =  [      \n",
        "    {'role':'system', 'content':'Eres un abogado que explica los temas de derecho a clientes como si tuvieran 6 años'},   \n",
        "    {'role':'user', 'content':'¿Qué es la constitución?'}  \n",
        "]\n",
        "\n",
        "response = get_completion_from_messages(messages, temperature=0.7)\n",
        "print(response)"
      ]
    },
    {
      "cell_type": "markdown",
      "metadata": {
        "nteract": {
          "transient": {
            "deleting": false
          }
        }
      },
      "source": [
        "#### Student Tasks (open questions):\n",
        "1. Create a completion function for a higher temperature between (0,1).\n",
        "2. Create a completion function for a lower max_token for shorter response.\n",
        "3. Create acompletion functions with 2 different diversity penalty values between (0,2).\n",
        "\n",
        "Try out the completion functions you create on the previous case, compare the result you get."
      ]
    },
    {
      "cell_type": "code",
      "execution_count": null,
      "metadata": {
        "jupyter": {
          "outputs_hidden": false,
          "source_hidden": false
        },
        "nteract": {
          "transient": {
            "deleting": false
          }
        }
      },
      "outputs": [],
      "source": [
        "# Try out a completion function for a higher temperature between (0,1)\n",
        "messages =  [      \n",
        "    {'role':'system', 'content':'Eres un abogado que explica los temas de derecho a clientes como si tuvieran 6 años'},   \n",
        "    {'role':'user', 'content':'¿Qué es la constitución?'}  \n",
        "]\n",
        "\n",
        "response = get_completion_from_messages(messages, temperature=0.7)\n",
        "print(response)"
      ]
    },
    {
      "cell_type": "code",
      "execution_count": 13,
      "metadata": {
        "jupyter": {
          "outputs_hidden": false,
          "source_hidden": false
        },
        "nteract": {
          "transient": {
            "deleting": false
          }
        }
      },
      "outputs": [
        {
          "data": {
            "text/plain": [
              "'Why did the tomato turn red?\\n\\nBecause it saw the salad dressing!'"
            ]
          },
          "execution_count": 13,
          "metadata": {},
          "output_type": "execute_result"
        }
      ],
      "source": [
        "# Try out a completion function for a lower max_token for shorter response\n",
        "def get_chat_completion_tokens(prompt, model=chat_model, max_tokens=200):\n",
        "    messages = [{\"role\": \"user\", \"content\": prompt}]\n",
        "    response = openai.ChatCompletion.create(\n",
        "        engine=model,\n",
        "        messages=messages,\n",
        "        temperature=0, # this is the degree of randomness of the model's output\n",
        "        max_tokens = max_tokens,\n",
        "        top_p = 1.0\n",
        "    )\n",
        "    return response.choices[0].message[\"content\"]\n",
        "\n",
        "get_chat_completion_tokens(max_tokens=100, prompt=\"tell me a joke.\")"
      ]
    },
    {
      "cell_type": "code",
      "execution_count": 14,
      "metadata": {
        "jupyter": {
          "outputs_hidden": false,
          "source_hidden": false
        },
        "nteract": {
          "transient": {
            "deleting": false
          }
        }
      },
      "outputs": [],
      "source": [
        "# Try out completion functions with 2 different diversity penalty values between (0,2)\n",
        "\n",
        "def get_chat_completion_diversity(prompt, model=chat_model, diversity=0.5):\n",
        "    messages = [{\"role\": \"user\", \"content\": prompt}]\n",
        "    response = openai.ChatCompletion.create(\n",
        "        engine=model,\n",
        "        messages=messages,\n",
        "        temperature=0, # this is the degree of randomness of the model's output\n",
        "        max_tokens = 200,\n",
        "        top_p = 1.0,\n",
        "        frequency_penalty = diversity\n",
        "    )\n",
        "    return response.choices[0].message[\"content\"]"
      ]
    },
    {
      "cell_type": "code",
      "execution_count": 15,
      "metadata": {},
      "outputs": [
        {
          "data": {
            "text/plain": [
              "'Why did the tomato turn red?\\n\\nBecause it saw the salad dressing!'"
            ]
          },
          "execution_count": 15,
          "metadata": {},
          "output_type": "execute_result"
        }
      ],
      "source": [
        "get_chat_completion_diversity(prompt=\"tell me a joke.\", diversity=0)"
      ]
    },
    {
      "cell_type": "code",
      "execution_count": 16,
      "metadata": {},
      "outputs": [
        {
          "data": {
            "text/plain": [
              "'Why did the tomato turn red?\\n\\nBecause it saw the salad dressing!'"
            ]
          },
          "execution_count": 16,
          "metadata": {},
          "output_type": "execute_result"
        }
      ],
      "source": [
        "get_chat_completion_diversity(prompt=\"tell me a joke.\", diversity=2)"
      ]
    },
    {
      "cell_type": "markdown",
      "metadata": {
        "nteract": {
          "transient": {
            "deleting": false
          }
        }
      },
      "source": [
        "### 1.2 System Message Engineering\n",
        "Users can achieve the response from models in their desired tone through adjusting the system message."
      ]
    },
    {
      "cell_type": "markdown",
      "metadata": {
        "nteract": {
          "transient": {
            "deleting": false
          }
        }
      },
      "source": [
        "#### 1.2.1 Change of Tone"
      ]
    },
    {
      "cell_type": "code",
      "execution_count": 17,
      "metadata": {
        "gather": {
          "logged": 1685476487849
        },
        "jupyter": {
          "outputs_hidden": false,
          "source_hidden": false
        },
        "nteract": {
          "transient": {
            "deleting": false
          }
        }
      },
      "outputs": [
        {
          "name": "stdout",
          "output_type": "stream",
          "text": [
            "Why couldn't the bicycle stand up by itself? \n",
            "\n",
            "Because it was two-tired.\n"
          ]
        }
      ],
      "source": [
        "messages =  [      \n",
        "    {'role':'assistant', 'content':'How can I help you?'},\n",
        "    {'role':'user', 'content':'tell me a joke'}\n",
        "]\n",
        "response = get_completion_from_messages(messages, temperature=1)\n",
        "print(response)"
      ]
    },
    {
      "cell_type": "code",
      "execution_count": 18,
      "metadata": {
        "gather": {
          "logged": 1685059077359
        },
        "jupyter": {
          "outputs_hidden": false,
          "source_hidden": false
        },
        "nteract": {
          "transient": {
            "deleting": false
          }
        }
      },
      "outputs": [
        {
          "name": "stdout",
          "output_type": "stream",
          "text": [
            "Ah, a jest you desire? Let me ponder a moment. Ahem. Why did the nobleman cross the road? To get to the other castle, of course! 'Tis a jest of the most mirthful sort, methinks.\n"
          ]
        }
      ],
      "source": [
        "messages =  [  \n",
        "    {'role':'system', 'content':'You are an assistant that speaks like Shakespeare.'},    \n",
        "    {'role':'assistant', 'content':'How can I help you?'},\n",
        "    {'role':'user', 'content':'tell me a joke'}\n",
        "]\n",
        "response = get_completion_from_messages(messages, temperature=1)\n",
        "print(response)"
      ]
    },
    {
      "cell_type": "markdown",
      "metadata": {
        "nteract": {
          "transient": {
            "deleting": false
          }
        }
      },
      "source": [
        "#### Student Task (open question):\n",
        "Make the assistant tell the joke in the tone of your favorite character by editing the system message.\n"
      ]
    },
    {
      "cell_type": "code",
      "execution_count": 19,
      "metadata": {
        "gather": {
          "logged": 1686939630607
        },
        "jupyter": {
          "outputs_hidden": false,
          "source_hidden": false
        },
        "nteract": {
          "transient": {
            "deleting": false
          }
        }
      },
      "outputs": [
        {
          "name": "stdout",
          "output_type": "stream",
          "text": [
            "Okay, here's a joke for you! What do you get when you cross a snowman and a shark? Frostbite! Ahahahahaha!\n"
          ]
        }
      ],
      "source": [
        "# Make the assistant tell the joke in the tone of your favorite character by editing the system message.\n",
        "messages =  [  \n",
        "    {'role':'system', 'content':'You are an assistant that speaks like SpongeBob.'},    \n",
        "    {'role':'assistant', 'content':'How can I help you?'},\n",
        "    {'role':'user', 'content':'tell me a joke'}\n",
        "]\n",
        "response = get_completion_from_messages(messages, temperature=1)\n",
        "print(response)"
      ]
    },
    {
      "cell_type": "markdown",
      "metadata": {
        "nteract": {
          "transient": {
            "deleting": false
          }
        }
      },
      "source": [
        "#### 1.2.2 Remind the Company Name"
      ]
    },
    {
      "cell_type": "code",
      "execution_count": 22,
      "metadata": {
        "gather": {
          "logged": 1685059130793
        },
        "jupyter": {
          "outputs_hidden": false,
          "source_hidden": false
        },
        "nteract": {
          "transient": {
            "deleting": false
          }
        }
      },
      "outputs": [
        {
          "name": "stdout",
          "output_type": "stream",
          "text": [
            "I'm sorry, but I don't have any personal information about you. As an AI-powered chatbot, I wasn’t programmed to access personal information. Maybe you can check your employment contract or company emails to find out the name of your employer.\n"
          ]
        }
      ],
      "source": [
        "messages =  [  \n",
        "{'role':'system', 'content':'You are friendly chatbot.'},  \n",
        "{'role':'user', 'content':'Hi, my name is Mel.'},\n",
        "{'role':'assistant', 'content': \"Hi! It's nice to meet you. \\\n",
        "Is there anything I can help you with today?\"},  \n",
        "{'role':'user', 'content':'Yes, can you remind me which company I work for?'}  ]\n",
        "response = get_completion_from_messages(messages, temperature=1)\n",
        "print(response)"
      ]
    },
    {
      "cell_type": "markdown",
      "metadata": {
        "nteract": {
          "transient": {
            "deleting": false
          }
        }
      },
      "source": [
        "#### Student Task: \n",
        "Make the assistant give a reliable reminder of company name by giving context in the system message."
      ]
    },
    {
      "cell_type": "code",
      "execution_count": 24,
      "metadata": {
        "gather": {
          "logged": 1686939642577
        },
        "jupyter": {
          "outputs_hidden": false,
          "source_hidden": false
        },
        "nteract": {
          "transient": {
            "deleting": false
          }
        }
      },
      "outputs": [
        {
          "name": "stdout",
          "output_type": "stream",
          "text": [
            "You work for Sabritas, a snack company famous for its delicious chips and other snack products. How can I help you with your work at Sabritas?\n"
          ]
        }
      ],
      "source": [
        "# Make the assistant give a reliable reminder of company name by giving context in system message.\n",
        "messages =  [  \n",
        "{'role':'system', 'content':'You are friendly chatbot from Sabritas company.'},  \n",
        "{'role':'user', 'content':'Hi, my name is Mel.'},\n",
        "{'role':'assistant', 'content': \"Hi! It's nice to meet you. \\\n",
        "Is there anything I can help you with today?\"},  \n",
        "{'role':'user', 'content':'Yes, can you remind me which company I work for?'}  ]\n",
        "response = get_completion_from_messages(messages, temperature=1)\n",
        "print(response)"
      ]
    },
    {
      "cell_type": "markdown",
      "metadata": {
        "nteract": {
          "transient": {
            "deleting": false
          }
        }
      },
      "source": [
        "## 2. Iterative Prompting Principles\n",
        "It is generally a good practice to perform iterative prompting so the model could generate the most appropriate response given the user's specification. \n",
        "- **Principle 1: Write clear and specific instructions**\n",
        "- **Principle 2: Give the model time to “think”**\n",
        "\n"
      ]
    },
    {
      "cell_type": "markdown",
      "metadata": {
        "nteract": {
          "transient": {
            "deleting": false
          }
        }
      },
      "source": [
        "### 2.1 Write clear and specific instructions"
      ]
    },
    {
      "cell_type": "markdown",
      "metadata": {
        "nteract": {
          "transient": {
            "deleting": false
          }
        }
      },
      "source": [
        "#### Tactic 1: Delimiters"
      ]
    },
    {
      "cell_type": "markdown",
      "metadata": {
        "nteract": {
          "transient": {
            "deleting": false
          }
        }
      },
      "source": [
        "#### Student Task:\n",
        "Use delimiters to clearly indicate distinct parts of the input\n",
        "\n",
        "Delimiters can be anything like: ````, \"\"\", < >, `<tag> </tag>`, `:`"
      ]
    },
    {
      "cell_type": "code",
      "execution_count": null,
      "metadata": {
        "gather": {
          "logged": 1685081594233
        },
        "jupyter": {
          "outputs_hidden": false,
          "source_hidden": false
        },
        "nteract": {
          "transient": {
            "deleting": false
          }
        }
      },
      "outputs": [],
      "source": [
        "text = f\"\"\"\n",
        "    The 2020 Summer Olympics, officially the Games of the XXXII Olympiad and also known as Tokyo 2020, was an international multi-sport event held from 23 July to 8 August 2021 in Tokyo, Japan, with some preliminary events that began on 21 July 2021. Tokyo was selected as the host city during the 125th IOC Session in Buenos Aires, Argentina, on 7 September 2013.Originally scheduled to take place from 24 July to 9 August 2020, the event was postponed to 2021 on 24 March 2020 due to the global COVID-19 pandemic, the first such instance in the history of the Olympic Games (previous games had been cancelled but not rescheduled). However, the event retained the Tokyo 2020 branding for marketing purposes. It was largely held behind closed doors with no public spectators permitted due to the declaration of a state of emergency in the Greater Tokyo Area in response to the pandemic, the first and only Olympic Games to be held without official spectators. The Games were the most expensive ever, with total spending of over $20 billion.The Games were the fourth Olympic Games to be held in Japan, following the 1964 Summer Olympics (Tokyo), 1972 Winter Olympics (Sapporo), and 1998 Winter Olympics (Nagano). Tokyo became the first city in Asia to hold the Summer Olympic Games twice. The 2020 Games were the second of three consecutive Olympics to be held in East Asia, following the 2018 Winter Olympics in Pyeongchang, South Korea and preceding the 2022 Winter Olympics in Beijing, China. Due to the one-year postponement, Tokyo 2020 was the first and only Olympic Games to have been held in an odd-numbered year and the first Summer Olympics since 1900 to be held in a non-leap year.\\nNew events were introduced in existing sports, including 3x3 basketball, freestyle BMX and mixed gender team events in a number of existing sports, as well as the return of madison cycling for men and an introduction of the same event for women. New IOC policies also allowed the host organizing committee to add new sports to the Olympic program for just one Games. The disciplines added by the Japanese Olympic Committee were baseball and softball, karate, sport climbing, surfing and skateboarding, the last four of which made their Olympic debuts, and the last three of which will remain on the Olympic program.The United States topped the medal count by both total golds (39) and total medals (113), with China finishing second by both respects (38 and 89). Host nation Japan finished third, setting a record for the most gold medals and total medals ever won by their delegation at an Olympic Games with 27 and 58. Great Britain finished fourth, with a total of 22 gold and 64 medals. The Russian delegation competing as the ROC finished fifth with 20 gold medals and third in the overall medal count, with 71 medals. Bermuda, the Philippines and Qatar won their first-ever Olympic gold medals. Burkina Faso, San Marino and Turkmenistan also won their first-ever Olympic medals.'\n",
        "\"\"\""
      ]
    },
    {
      "cell_type": "code",
      "execution_count": 27,
      "metadata": {
        "jupyter": {
          "outputs_hidden": false,
          "source_hidden": false
        },
        "nteract": {
          "transient": {
            "deleting": false
          }
        }
      },
      "outputs": [
        {
          "data": {
            "text/plain": [
              "'Tokyo 2020 Olympics held from 23 July to 8 August 2021, postponed due to COVID-19 pandemic, with new events and Japan winning record medals.'"
            ]
          },
          "execution_count": 27,
          "metadata": {},
          "output_type": "execute_result"
        }
      ],
      "source": [
        "# Use delimiters to clearly indicate distinct parts of the input, and ask the model to summarize the text.\n",
        "prompt = f\"\"\"\n",
        "### DATA ###\n",
        "{text}\n",
        "\n",
        "### INSTRUCTIONS ###\n",
        "Summarize the previous text in less than 30 words.\n",
        "\n",
        "### SUMMARY ###\n",
        "\n",
        "\"\"\"\n",
        "\n",
        "get_chat_completion(prompt)"
      ]
    },
    {
      "cell_type": "markdown",
      "metadata": {
        "nteract": {
          "transient": {
            "deleting": false
          }
        }
      },
      "source": [
        "#### Tactic 2: Summarization: specify word counts, extract information"
      ]
    },
    {
      "cell_type": "markdown",
      "metadata": {
        "nteract": {
          "transient": {
            "deleting": false
          }
        }
      },
      "source": [
        "#### Text to summarize"
      ]
    },
    {
      "cell_type": "code",
      "execution_count": 29,
      "metadata": {
        "gather": {
          "logged": 1685059771050
        },
        "jupyter": {
          "outputs_hidden": false,
          "source_hidden": false
        },
        "nteract": {
          "transient": {
            "deleting": false
          }
        }
      },
      "outputs": [],
      "source": [
        "game_review = \"\"\"\n",
        "The 2020 Summer Olympics, officially the Games of the XXXII Olympiad and also known as Tokyo 2020, \\\n",
        "was an international multi-sport event held from 23 July to 8 August 2021 in Tokyo, Japan, \\\n",
        "with some preliminary events that began on 21 July 2021. Tokyo was selected as the host city during the 125th IOC Session in Buenos Aires, Argentina, \\\n",
        "on 7 September 2013.Originally scheduled to take place from 24 July to 9 August 2020, the event was postponed to 2021 on 24 March 2020 due to the global COVID-19 pandemic, \\\n",
        "the first such instance in the history of the Olympic Games (previous games had been cancelled but not rescheduled). \\\n",
        "However, the event retained the Tokyo 2020 branding for marketing purposes. \\\n",
        "It was largely held behind closed doors with no public spectators permitted due to the declaration of a state of emergency in the Greater Tokyo Area in response to the pandemic, the first and only Olympic Games to be held without official spectators. \\\n",
        "The Games were the most expensive ever, with total spending of over $20 billion. \\\n",
        "The Games were the fourth Olympic Games to be held in Japan, following the 1964 Summer Olympics (Tokyo), 1972 Winter Olympics (Sapporo), \\\n",
        "and 1998 Winter Olympics (Nagano). Tokyo became the first city in Asia to hold the Summer Olympic Games twice. \\\n",
        "The 2020 Games were the second of three consecutive Olympics to be held in East Asia, following the 2018 Winter Olympics in Pyeongchang, \\\n",
        "South Korea and preceding the 2022 Winter Olympics in Beijing, China. \\\n",
        "Due to the one-year postponement, Tokyo 2020 was the first and only Olympic Games to have been held in an odd-numbered year and the first Summer Olympics since 1900 to be held in a non-leap year.\n",
        "New events were introduced in existing sports, including 3x3 basketball, \\\n",
        "freestyle BMX and mixed gender team events in a number of existing sports, as well as the return of madison cycling for men and an introduction of the same event for women. \\\n",
        "New IOC policies also allowed the host organizing committee to add new sports to the Olympic program for just one Games. \\\n",
        "The disciplines added by the Japanese Olympic Committee were baseball and softball, karate, \\\n",
        "sport climbing, surfing and skateboarding, the last four of which made their Olympic debuts, and the last three of which will remain on the Olympic program. \\\n",
        "The United States topped the medal count by both total golds (39) and total medals (113), with China finishing second by both respects (38 and 89). \\\n",
        "Host nation Japan finished third, setting a record for the most gold medals and total medals ever won by their delegation at an Olympic Games with 27 and 58. \\\n",
        "Great Britain finished fourth, with a total of 22 gold and 64 medals. \\\n",
        "The Russian delegation competing as the ROC finished fifth with 20 gold medals and third in the overall medal count, with 71 medals. \\\n",
        "Bermuda, the Philippines and Qatar won their first-ever Olympic gold medals. Burkina Faso, San Marino and Turkmenistan also won their first-ever Olympic medals.\n",
        "\"\"\""
      ]
    },
    {
      "cell_type": "markdown",
      "metadata": {
        "nteract": {
          "transient": {
            "deleting": false
          }
        }
      },
      "source": [
        "#### Student Task:\n",
        "Summarize with a focus on the special parts of the 2020 Summer Olympics and with a word limit"
      ]
    },
    {
      "cell_type": "code",
      "execution_count": 35,
      "metadata": {
        "jupyter": {
          "outputs_hidden": false,
          "source_hidden": false
        },
        "nteract": {
          "transient": {
            "deleting": false
          }
        }
      },
      "outputs": [
        {
          "data": {
            "text/plain": [
              "'The United States topped the medal count at the 2020 Summer Olympics with 39 gold medals and 113 total medals, followed by China with 38 gold medals and 89 total medals. Host nation Japan finished third with a record-breaking 27 gold medals and 58 total medals, while Great Britain finished fourth with 22 gold medals and 64 total medals. The Games featured new events and sports, including 3x3 basketball, freestyle BMX, and skateboarding, and saw several countries win their first-ever Olympic gold medals.'"
            ]
          },
          "execution_count": 35,
          "metadata": {},
          "output_type": "execute_result"
        }
      ],
      "source": [
        "# Summarize with a focus on the special parts of the 2020 Summer Olympics and with a word limit\n",
        "prompt = f\"\"\"\n",
        "Write a short, concise summary about the following text focusing on the main winners using a maximum of 50 words.\n",
        "+++{game_review}+++\n",
        "\"\"\"\n",
        "\n",
        "get_chat_completion(prompt)"
      ]
    },
    {
      "cell_type": "markdown",
      "metadata": {
        "nteract": {
          "transient": {
            "deleting": false
          }
        }
      },
      "source": [
        "#### Student Task:\n",
        "Try \"extract\" instead of \"summarize\""
      ]
    },
    {
      "cell_type": "code",
      "execution_count": 36,
      "metadata": {
        "jupyter": {
          "outputs_hidden": false,
          "source_hidden": false
        },
        "nteract": {
          "transient": {
            "deleting": false
          }
        }
      },
      "outputs": [
        {
          "data": {
            "text/plain": [
              "'The United States won the most gold medals (39) and total medals (113) at the 2020 Summer Olympics held in Tokyo, Japan. China finished second in both respects (38 and 89), while host nation Japan finished third with a record-breaking 27 gold medals and 58 total medals. Great Britain finished fourth with 22 gold and 64 medals, and the Russian delegation competing as the ROC finished fifth with 20 gold medals and 71 total medals.'"
            ]
          },
          "execution_count": 36,
          "metadata": {},
          "output_type": "execute_result"
        }
      ],
      "source": [
        "# Try \"extract\" instead of \"summarize\"\n",
        "prompt = f\"\"\"\n",
        "Extract relevant information about the following text focusing on the main winners using a maximum of 50 words.\n",
        "+++{game_review}+++\n",
        "\"\"\"\n",
        "\n",
        "get_chat_completion(prompt)"
      ]
    },
    {
      "cell_type": "markdown",
      "metadata": {
        "nteract": {
          "transient": {
            "deleting": false
          }
        }
      },
      "source": [
        "#### Tactic 3: Inferring: ask for emotions, sentiment, or topics "
      ]
    },
    {
      "cell_type": "markdown",
      "metadata": {
        "nteract": {
          "transient": {
            "deleting": false
          }
        }
      },
      "source": [
        "#### Student Task:\n",
        "Identify types of emotions and sentiment (positive/negative) of the review below\n",
        "\n",
        "Format in a JSON object"
      ]
    },
    {
      "cell_type": "code",
      "execution_count": 37,
      "metadata": {
        "jupyter": {
          "outputs_hidden": false,
          "source_hidden": false
        },
        "nteract": {
          "transient": {
            "deleting": false
          }
        }
      },
      "outputs": [],
      "source": [
        "review = \"\"\"\n",
        "Philip Barker of Inside the Games opined that for many athletes and supporters, \\\n",
        "the tone of the ceremony was dignified and appropriate. Hashimoto stated in a press interview that the flame would \"quietly go out\", \\\n",
        "which he felt that \"It was an apt description of a dignified and low key Ceremony which conveyed a sense of gratitude that the Games had been able to take place at all.\"\\\n",
        "Dominic Patten of Deadline Hollywood argued that the ceremony was an \"uneven mixtape\" of contrasts, \\\n",
        "comparing the low-key \"celebration of the culture of the Asian power and brow moping acknowledgement of the pandemic\" to the jubilant Paris segment, \\\n",
        "as well as clichÃ©-filled speech of Thomas Bach. Alan Tyres of The Daily Telegraph discussed the IOC updated motto as a sign of things to come. \\\n",
        "He stated, \"The updated Olympic motto of 'faster, higher, \\\n",
        "stronger â€“ together' fits with how sport is covered and contextualised at this moment in history: \\\n",
        "inclusion, diversity, justice and a duty of care to the athletes must be taken into consideration as much as performance.\" \\\n",
        "He also discussed the strangeness of the ceremony, as it was performed without a stadium audience.\n",
        "\"\"\""
      ]
    },
    {
      "cell_type": "code",
      "execution_count": 38,
      "metadata": {
        "jupyter": {
          "outputs_hidden": false,
          "source_hidden": false
        },
        "nteract": {
          "transient": {
            "deleting": false
          }
        }
      },
      "outputs": [
        {
          "data": {
            "text/plain": [
              "'{\\n  \"Philip Barker\": {\\n    \"Emotion\": \"Positive\",\\n    \"Sentiment\": \"Positive\"\\n  },\\n  \"Hashimoto\": {\\n    \"Emotion\": \"Gratitude\",\\n    \"Sentiment\": \"Positive\"\\n  },\\n  \"Dominic Patten\": {\\n    \"Emotion\": \"Mixed\",\\n    \"Sentiment\": \"Negative\"\\n  },\\n  \"Thomas Bach\": {\\n    \"Emotion\": \"Cliché\",\\n    \"Sentiment\": \"Negative\"\\n  },\\n  \"Alan Tyres\": {\\n    \"Emotion\": \"Inclusion, Diversity, Justice, Duty of Care\",\\n    \"Sentiment\": \"Positive\"\\n  }\\n}'"
            ]
          },
          "execution_count": 38,
          "metadata": {},
          "output_type": "execute_result"
        }
      ],
      "source": [
        "# Identify types of emotions and sentiment (positive/negative) of the review above. Format in a JSON object.\n",
        "prompt = f\"\"\"\n",
        "Identify types of emotions and sentiment (positive/negative) of the following review. \n",
        "The output must be in JSON object:\n",
        "###{review}###\n",
        "\"\"\"\n",
        "\n",
        "get_chat_completion(prompt)"
      ]
    },
    {
      "cell_type": "markdown",
      "metadata": {
        "nteract": {
          "transient": {
            "deleting": false
          }
        }
      },
      "source": [
        "#### Student Challenge:\n",
        "Infer 3 topics of the story below"
      ]
    },
    {
      "cell_type": "code",
      "execution_count": 40,
      "metadata": {
        "jupyter": {
          "outputs_hidden": false,
          "source_hidden": false
        },
        "nteract": {
          "transient": {
            "deleting": false
          }
        }
      },
      "outputs": [],
      "source": [
        "story = \"\"\"\n",
        "The 2020 Summer Olympics, officially the Games of the XXXII Olympiad and also known as Tokyo 2020, \\\n",
        "was an international multi-sport event held from 23 July to 8 August 2021 in Tokyo, Japan, \\\n",
        "with some preliminary events that began on 21 July 2021. Tokyo was selected as the host city during the 125th IOC Session in Buenos Aires, Argentina, \\\n",
        "on 7 September 2013.Originally scheduled to take place from 24 July to 9 August 2020, the event was postponed to 2021 on 24 March 2020 due to the global COVID-19 pandemic, \\\n",
        "the first such instance in the history of the Olympic Games (previous games had been cancelled but not rescheduled). \\\n",
        "However, the event retained the Tokyo 2020 branding for marketing purposes. \\\n",
        "It was largely held behind closed doors with no public spectators permitted due to the declaration of a state of emergency in the Greater Tokyo Area in response to the pandemic, the first and only Olympic Games to be held without official spectators. \\\n",
        "The Games were the most expensive ever, with total spending of over $20 billion. \\\n",
        "The Games were the fourth Olympic Games to be held in Japan, following the 1964 Summer Olympics (Tokyo), 1972 Winter Olympics (Sapporo), \\\n",
        "and 1998 Winter Olympics (Nagano). Tokyo became the first city in Asia to hold the Summer Olympic Games twice. \\\n",
        "The 2020 Games were the second of three consecutive Olympics to be held in East Asia, following the 2018 Winter Olympics in Pyeongchang, \\\n",
        "South Korea and preceding the 2022 Winter Olympics in Beijing, China. \\\n",
        "Due to the one-year postponement, Tokyo 2020 was the first and only Olympic Games to have been held in an odd-numbered year and the first Summer Olympics since 1900 to be held in a non-leap year.\n",
        "New events were introduced in existing sports, including 3x3 basketball, \\\n",
        "freestyle BMX and mixed gender team events in a number of existing sports, as well as the return of madison cycling for men and an introduction of the same event for women. \\\n",
        "New IOC policies also allowed the host organizing committee to add new sports to the Olympic program for just one Games. \\\n",
        "The disciplines added by the Japanese Olympic Committee were baseball and softball, karate, \\\n",
        "sport climbing, surfing and skateboarding, the last four of which made their Olympic debuts, and the last three of which will remain on the Olympic program. \\\n",
        "The United States topped the medal count by both total golds (39) and total medals (113), with China finishing second by both respects (38 and 89). \\\n",
        "Host nation Japan finished third, setting a record for the most gold medals and total medals ever won by their delegation at an Olympic Games with 27 and 58. \\\n",
        "Great Britain finished fourth, with a total of 22 gold and 64 medals. \\\n",
        "The Russian delegation competing as the ROC finished fifth with 20 gold medals and third in the overall medal count, with 71 medals. \\\n",
        "Bermuda, the Philippines and Qatar won their first-ever Olympic gold medals. Burkina Faso, San Marino and Turkmenistan also won their first-ever Olympic medals.\n",
        "\"\"\""
      ]
    },
    {
      "cell_type": "code",
      "execution_count": 41,
      "metadata": {
        "jupyter": {
          "outputs_hidden": false,
          "source_hidden": false
        },
        "nteract": {
          "transient": {
            "deleting": false
          }
        }
      },
      "outputs": [
        {
          "data": {
            "text/plain": [
              "'- The 2020 Summer Olympics held in Tokyo, Japan\\n- Impact of COVID-19 on the event, including postponement and lack of spectators\\n- Introduction of new events and sports, and record-breaking performances by certain countries'"
            ]
          },
          "execution_count": 41,
          "metadata": {},
          "output_type": "execute_result"
        }
      ],
      "source": [
        "# Infer 3 topics of the story above. \n",
        "prompt = f\"\"\"\n",
        "Detect the 3 more relevant topics of the following story, present the output in bullet points:\n",
        "---{story}---\n",
        "\"\"\"\n",
        "\n",
        "get_chat_completion(prompt)"
      ]
    },
    {
      "cell_type": "markdown",
      "metadata": {
        "nteract": {
          "transient": {
            "deleting": false
          }
        }
      },
      "source": [
        "#### Tactic 4: Transforming: specify target language and writing style, and ask for grammar check"
      ]
    },
    {
      "cell_type": "markdown",
      "metadata": {
        "nteract": {
          "transient": {
            "deleting": false
          }
        }
      },
      "source": [
        "#### Student Task:\n",
        "Universal Translator\n",
        "\n",
        "People all over the world want to know the Olympic game news in their native language. In this case, the news needs to be translated into different languages. Translate each news item below into both Korean and English."
      ]
    },
    {
      "cell_type": "code",
      "execution_count": 42,
      "metadata": {
        "jupyter": {
          "outputs_hidden": false,
          "source_hidden": false
        },
        "nteract": {
          "transient": {
            "deleting": false
          }
        }
      },
      "outputs": [],
      "source": [
        "news = [\n",
        "\"Palestine received a universality invitation from FINA to send two top-ranked swimmers (one per gender) in their respective individual events to the Olympics, \\\n",
        "based on the FINA Points System of June 28, 2021.\",\n",
        "\"比赛包括两轮：预赛和决赛。预赛成绩最好的8次接力队晋级决赛。必要时使用游泳比赛来打破平局以晋级下一轮。\"]"
      ]
    },
    {
      "cell_type": "code",
      "execution_count": 43,
      "metadata": {
        "jupyter": {
          "outputs_hidden": false,
          "source_hidden": false
        },
        "nteract": {
          "transient": {
            "deleting": false
          }
        }
      },
      "outputs": [
        {
          "data": {
            "text/plain": [
              "'Korean: \\n팔레스타인은 2021년 6월 28일 FINA 포인트 시스템을 기반으로 각각의 개인 이벤트에서 상위 랭킹 수영 선수 두 명(성별당 한 명)을 올림픽에 보내기 위해 FINA로부터 보편성 초대를 받았습니다. \\n\\n比赛包括两轮：预赛和决赛。预赛成绩最好的8次接力队晋级决赛。必要时使用游泳比赛来打破平局以晋级下一轮。\\n\\nEnglish:\\nPalestine has received a universality invitation from FINA to send two top-ranked swimmers ('"
            ]
          },
          "execution_count": 43,
          "metadata": {},
          "output_type": "execute_result"
        }
      ],
      "source": [
        "# Write code here for student task\n",
        "prompt = f\"\"\"\n",
        "Translate the following news to Korean and English:\n",
        "### {news} ###\n",
        "\"\"\"\n",
        "\n",
        "get_chat_completion(prompt)"
      ]
    },
    {
      "cell_type": "markdown",
      "metadata": {
        "nteract": {
          "transient": {
            "deleting": false
          }
        }
      },
      "source": [
        "#### Student Task:\n",
        "Tone Transformation\n",
        "\n",
        "Writing can vary based on the intended audience. ChatGPT can produce different tones. Transform the following message into a business letter."
      ]
    },
    {
      "cell_type": "code",
      "execution_count": 54,
      "metadata": {
        "gather": {
          "logged": 1685082786641
        },
        "jupyter": {
          "outputs_hidden": false,
          "source_hidden": false
        },
        "nteract": {
          "transient": {
            "deleting": false
          }
        }
      },
      "outputs": [],
      "source": [
        "original_message = \"David, it's John! OMG, the Olympic game is so crazy\""
      ]
    },
    {
      "cell_type": "code",
      "execution_count": 58,
      "metadata": {
        "jupyter": {
          "outputs_hidden": false,
          "source_hidden": false
        },
        "nteract": {
          "transient": {
            "deleting": false
          }
        }
      },
      "outputs": [
        {
          "data": {
            "text/plain": [
              "'Dear David,\\n\\nI hope this letter finds you well. I am writing to you today to discuss the current state of the Olympic games. As you may already know, the games have been nothing short of spectacular thus far.\\n\\nI cannot help but express my excitement and enthusiasm for the events that have taken place. The level of competition and athleticism on display is truly remarkable. It is a testament to the hard work and dedication of the athletes who have trained tirelessly to reach this point.\\n\\nI wanted to take a moment to share my thoughts with you and to express my appreciation for the opportunity to witness such an incredible event. I hope that you too have been able to enjoy the games and that they have left you feeling inspired and motivated.\\n\\nThank you for your time and attention. I look forward to hearing your thoughts on the matter.\\n\\nSincerely,\\n\\nJohn'"
            ]
          },
          "execution_count": 58,
          "metadata": {},
          "output_type": "execute_result"
        }
      ],
      "source": [
        "# Task: write code here for student task\n",
        "business_message = f\"\"\"\n",
        "Write the following message as a business letter:\n",
        "+++{original_message}+++\n",
        "\"\"\"\n",
        "\n",
        "get_chat_completion(business_message)"
      ]
    },
    {
      "cell_type": "code",
      "execution_count": null,
      "metadata": {},
      "outputs": [],
      "source": []
    },
    {
      "cell_type": "markdown",
      "metadata": {
        "nteract": {
          "transient": {
            "deleting": false
          }
        }
      },
      "source": [
        "#### Student Task:\n",
        "Format Conversion\n",
        "\n",
        "ChatGPT can translate between formats. The prompt should describe the input and output formats. Convert the following JSON data into HTML format."
      ]
    },
    {
      "cell_type": "code",
      "execution_count": 59,
      "metadata": {
        "gather": {
          "logged": 1685083768996
        },
        "jupyter": {
          "outputs_hidden": false,
          "source_hidden": false
        },
        "nteract": {
          "transient": {
            "deleting": false
          }
        }
      },
      "outputs": [],
      "source": [
        "data_json = { \"The 2020 Summer Olympics Opening Ceremony audience name list\" :[ \n",
        "    {\"name\":\"Shyam\", \"email\":\"shyamjaiswal@gmail.com\"},\n",
        "    {\"name\":\"Bob\", \"email\":\"bob32@gmail.com\"},\n",
        "    {\"name\":\"Jai\", \"email\":\"jai87@gmail.com\"}\n",
        "]}"
      ]
    },
    {
      "cell_type": "code",
      "execution_count": 60,
      "metadata": {
        "jupyter": {
          "outputs_hidden": false,
          "source_hidden": false
        },
        "nteract": {
          "transient": {
            "deleting": false
          }
        }
      },
      "outputs": [
        {
          "data": {
            "text/plain": [
              "'<table>\\n  <thead>\\n    <tr>\\n      <th>Name</th>\\n      <th>Email</th>\\n    </tr>\\n  </thead>\\n  <tbody>\\n    <tr>\\n      <td>Shyam</td>\\n      <td>shyamjaiswal@gmail.com</td>\\n    </tr>\\n    <tr>\\n      <td>Bob</td>\\n      <td>bob32@gmail.com</td>\\n    </tr>\\n    <tr>\\n      <td>Jai</td>\\n      <td>jai87@gmail.com</td>\\n    </tr>\\n  </tbody>\\n</table>'"
            ]
          },
          "execution_count": 60,
          "metadata": {},
          "output_type": "execute_result"
        }
      ],
      "source": [
        "# Write code here for student task\n",
        "prompt = f\"\"\"\n",
        "Show the following json data in a web HTML table format:\n",
        "{data_json}\n",
        "\"\"\"\n",
        "\n",
        "get_chat_completion(prompt)"
      ]
    },
    {
      "cell_type": "markdown",
      "metadata": {
        "nteract": {
          "transient": {
            "deleting": false
          }
        }
      },
      "source": [
        "#### Student Task:\n",
        "Spellcheck and Grammar check the following text. \n",
        "\n",
        "To signal to the LLM that you want it to proofread your text, you instruct the model to 'proofread' or 'proofread and correct'."
      ]
    },
    {
      "cell_type": "code",
      "execution_count": 61,
      "metadata": {
        "gather": {
          "logged": 1685084954682
        },
        "jupyter": {
          "outputs_hidden": false,
          "source_hidden": false
        },
        "nteract": {
          "transient": {
            "deleting": false
          }
        }
      },
      "outputs": [],
      "source": [
        "check_text = [ \n",
        "  \"Alongside the main Emblem blue, the five other colors use in the branding of the 2020 Games is : Kurenai red,   Ai blue,   Sakula pink,   Fuji purple, and   Matsuba green.\",\n",
        "  \"The competition have three round: heats, semifinals, and a final.\"\n",
        "]"
      ]
    },
    {
      "cell_type": "code",
      "execution_count": 62,
      "metadata": {
        "jupyter": {
          "outputs_hidden": false,
          "source_hidden": false
        },
        "nteract": {
          "transient": {
            "deleting": false
          }
        }
      },
      "outputs": [
        {
          "data": {
            "text/plain": [
              "'\"Alongside the main emblem blue, the five other colors used in the branding of the 2020 Games are: Kurenai red, Ai blue, Sakura pink, Fuji purple, and Matsuba green. The competition has three rounds: heats, semifinals, and a final.\"'"
            ]
          },
          "execution_count": 62,
          "metadata": {},
          "output_type": "execute_result"
        }
      ],
      "source": [
        "# Write code here for student task\n",
        "prompt = f\"\"\"\n",
        "Proofread and correct the following text:\n",
        "###{check_text}###\n",
        "\n",
        "\"\"\"\n",
        "\n",
        "get_chat_completion(prompt)"
      ]
    },
    {
      "cell_type": "markdown",
      "metadata": {
        "nteract": {
          "transient": {
            "deleting": false
          }
        }
      },
      "source": [
        "#### Tactic 5: Expanding: customize the automated reply"
      ]
    },
    {
      "cell_type": "markdown",
      "metadata": {
        "nteract": {
          "transient": {
            "deleting": false
          }
        }
      },
      "source": [
        "#### Student Task:\n",
        "Customize the automated reply to the following customer email.\n",
        "\n",
        "The customer faced an issue while buying the Olympics game ticket."
      ]
    },
    {
      "cell_type": "code",
      "execution_count": 67,
      "metadata": {
        "gather": {
          "logged": 1685463156048
        },
        "jupyter": {
          "outputs_hidden": false,
          "source_hidden": false
        },
        "nteract": {
          "transient": {
            "deleting": false
          }
        }
      },
      "outputs": [],
      "source": [
        "# given the sentiment from the tactic on \"inferring\",\n",
        "# and the original customer message, customize the email\n",
        "sentiment = \"negative\"\n",
        "\n",
        "# review for a ticket transaction\n",
        "review = f\"\"\"\n",
        "I bought the ticket of \"Men's 100 metre freestyle swimming\" game last week.\\\n",
        "The transaction went through successfully. However, I still have not received the ticket.\\\n",
        "Over one week has passed.\\\n",
        "\"\"\""
      ]
    },
    {
      "cell_type": "code",
      "execution_count": 68,
      "metadata": {
        "jupyter": {
          "outputs_hidden": false,
          "source_hidden": false
        },
        "nteract": {
          "transient": {
            "deleting": false
          }
        }
      },
      "outputs": [
        {
          "data": {
            "text/plain": [
              "'Dear [Customer],\\n\\nWe are sorry to hear that you have not received your ticket for the \"Men\\'s 100 metre freestyle swimming\" game. We understand how frustrating this must be for you, and we apologize for any inconvenience caused.\\n\\nWe would like to assure you that we take such matters seriously and are investigating the issue. We will do our best to resolve this as soon as possible and ensure that you receive your ticket in time for the event.\\n\\nIn the meantime, please let us know if there is anything else we can do to assist you. We value your business and appreciate your patience.\\n\\nBest regards,\\n[Your Name]'"
            ]
          },
          "execution_count": 68,
          "metadata": {},
          "output_type": "execute_result"
        }
      ],
      "source": [
        "# Write code here for student task\n",
        "prompt = f\"\"\"\n",
        "Based on the sentiment of the review, customize the email to the customer:\n",
        "\n",
        "Sentiment: {sentiment}.\n",
        "Review: {review}.\n",
        "\n",
        "Email: \n",
        "\"\"\"\n",
        "\n",
        "get_chat_completion(prompt)"
      ]
    },
    {
      "cell_type": "markdown",
      "metadata": {
        "nteract": {
          "transient": {
            "deleting": false
          }
        }
      },
      "source": [
        "#### Tactic 6: Chatbot: personalize conversations for specific tasks or behaviors"
      ]
    },
    {
      "cell_type": "markdown",
      "metadata": {
        "nteract": {
          "transient": {
            "deleting": false
          }
        }
      },
      "source": [
        "#### Student Task:\n",
        "Create a conversation with chatbot to know where the 2020 Summer Olympics is held."
      ]
    },
    {
      "cell_type": "code",
      "execution_count": 71,
      "metadata": {
        "jupyter": {
          "outputs_hidden": false,
          "source_hidden": false
        },
        "nteract": {
          "transient": {
            "deleting": false
          }
        }
      },
      "outputs": [
        {
          "data": {
            "text/plain": [
              "'Japan'"
            ]
          },
          "execution_count": 71,
          "metadata": {},
          "output_type": "execute_result"
        }
      ],
      "source": [
        "# Write code here for student task\n",
        "prompt = \"In which country were the 2020 Summer Olympics held? I only want to know the country name\"\n",
        "\n",
        "get_chat_completion(prompt)"
      ]
    },
    {
      "cell_type": "markdown",
      "metadata": {
        "nteract": {
          "transient": {
            "deleting": false
          }
        }
      },
      "source": [
        "### 2.2 Give the model time to “think” "
      ]
    },
    {
      "cell_type": "markdown",
      "metadata": {
        "nteract": {
          "transient": {
            "deleting": false
          }
        }
      },
      "source": [
        "#### Tactic 1: Specify the steps required to complete a task\n",
        "Sometimes you can help the model \"slow down\" and give more robust, detailed answers by specifying the steps it should take.\n",
        "\n",
        "Let's ask for output in multiple specified formats."
      ]
    },
    {
      "cell_type": "code",
      "execution_count": 73,
      "metadata": {
        "gather": {
          "logged": 1685051679218
        },
        "jupyter": {
          "outputs_hidden": false,
          "source_hidden": false
        },
        "nteract": {
          "transient": {
            "deleting": false
          }
        }
      },
      "outputs": [
        {
          "data": {
            "text/plain": [
              "'Article Publishing Information\\n\\nKeywords: Olympics, Tokyo 2020, COVID-19, new events, medal count.\\n\\n| Title | Keywords |\\n| --- | --- |\\n| Tokyo 2020 Olympics | Olympics, Tokyo 2020, COVID-19, new events, medal count |'"
            ]
          },
          "execution_count": 73,
          "metadata": {},
          "output_type": "execute_result"
        }
      ],
      "source": [
        "prompt = f\"\"\"\n",
        "Your task is to help a journalist summarize information from the article for publication.\n",
        "\n",
        "Write a title based on the information provided in the context delimited by triple backticks. \n",
        "The title should be short, catchy, and reflective of the article's narrative.\n",
        "\n",
        "After the title, generate five keywords from the context.\n",
        "\n",
        "After the keywords, include a table to organize the information. \n",
        "The table should have two columns. In the first column is the title.\n",
        "In the second column include the keywords as a list.\n",
        "\n",
        "Give the table the title 'Article Publishing Information'.\n",
        "\n",
        "Format everything as HTML that can be used in a website.\n",
        "Place the title in a <div> element.\n",
        "\n",
        "Context: ```{text}\n",
        "\n",
        "Please ensure that you follow the above instructions carefully.\n",
        "\n",
        "\"\"\" \n",
        "\n",
        "get_chat_completion(prompt)"
      ]
    },
    {
      "cell_type": "markdown",
      "metadata": {
        "nteract": {
          "transient": {
            "deleting": false
          }
        }
      },
      "source": [
        "#### Tactic 2: Instruct the model to work out its own solution\n",
        "\n",
        "There are two main methods we will demonstrate in this section to get the model to work through a problem instead of rushing to a conclusion, chain-of-thought and chaining. The strategies can lead to increased accuracy, detail, and the ability to work through complex challenges.\n",
        "\n",
        "\n",
        "2.1 - Chain-of-thought prompting\n",
        "- Ask the model to reason\n",
        "- One-shot example\n",
        "- Chatbot reasoning\n",
        "\n",
        "2.2 - Chaining\n",
        "\n",
        "Let's continue working with the Olympics dataset."
      ]
    },
    {
      "cell_type": "markdown",
      "metadata": {
        "nteract": {
          "transient": {
            "deleting": false
          }
        }
      },
      "source": [
        "#### 2.2.1 Chain-of-Thought Prompting\n",
        "\n",
        "Let's do a bit of math. GPT models occasionally don't do super well on solving direct math problems, so let's walk GPT through the problem.\n",
        "\n",
        "Let's break down tasks into smaller pieces.\n",
        "\n",
        "Read more about methods and whitepaper research here: https://github.com/openai/openai-cookbook/blob/main/techniques_to_improve_reliability.md"
      ]
    },
    {
      "cell_type": "markdown",
      "metadata": {
        "nteract": {
          "transient": {
            "deleting": false
          }
        }
      },
      "source": [
        "#### Tactic 1: You can start by specifically asking the model to simply think step-by-step."
      ]
    },
    {
      "cell_type": "code",
      "execution_count": 74,
      "metadata": {
        "gather": {
          "logged": 1685051978623
        },
        "jupyter": {
          "outputs_hidden": false,
          "source_hidden": false
        },
        "nteract": {
          "transient": {
            "deleting": false
          }
        }
      },
      "outputs": [
        {
          "data": {
            "text/plain": [
              "'Step 1: Identify the Olympic games held at Sydney\\nThe Olympic games held at Sydney were the 2000 Summer Olympics.\\n\\nStep 2: Identify the most decorated individual athlete\\nTo identify the most decorated individual athlete, we need to look at the medal count of all athletes who participated in the 2000 Summer Olympics. According to the official website of the International Olympic Committee (IOC), the medal count for the 2000 Summer Olympics can be found here: https://www.olympic.org/sydney-2000/medal-count.\\n\\nStep 3: Determine the athlete with the maximum medals\\nAfter reviewing the medal count, the athlete with the most medals at the 2000 Summer Olympics was Michael Phelps, who won 6 gold medals and 2 bronze medals in swimming events.\\n\\nTherefore, the ANSWER is: Michael Phelps.'"
            ]
          },
          "execution_count": 74,
          "metadata": {},
          "output_type": "execute_result"
        }
      ],
      "source": [
        "text = f\"\"\"\n",
        "    The 2020 Summer Olympics, officially the Games of the XXXII Olympiad and also known as Tokyo 2020, was an international multi-sport event held from 23 July to 8 August 2021 in Tokyo, Japan, with some preliminary events that began on 21 July 2021. Tokyo was selected as the host city during the 125th IOC Session in Buenos Aires, Argentina, on 7 September 2013.Originally scheduled to take place from 24 July to 9 August 2020, the event was postponed to 2021 on 24 March 2020 due to the global COVID-19 pandemic, the first such instance in the history of the Olympic Games (previous games had been cancelled but not rescheduled). However, the event retained the Tokyo 2020 branding for marketing purposes. It was largely held behind closed doors with no public spectators permitted due to the declaration of a state of emergency in the Greater Tokyo Area in response to the pandemic, the first and only Olympic Games to be held without official spectators. The Games were the most expensive ever, with total spending of over $20 billion.The Games were the fourth Olympic Games to be held in Japan, following the 1964 Summer Olympics (Tokyo), 1972 Winter Olympics (Sapporo), and 1998 Winter Olympics (Nagano). Tokyo became the first city in Asia to hold the Summer Olympic Games twice. The 2020 Games were the second of three consecutive Olympics to be held in East Asia, following the 2018 Winter Olympics in Pyeongchang, South Korea and preceding the 2022 Winter Olympics in Beijing, China. Due to the one-year postponement, Tokyo 2020 was the first and only Olympic Games to have been held in an odd-numbered year and the first Summer Olympics since 1900 to be held in a non-leap year.\\nNew events were introduced in existing sports, including 3x3 basketball, freestyle BMX and mixed gender team events in a number of existing sports, as well as the return of madison cycling for men and an introduction of the same event for women. New IOC policies also allowed the host organizing committee to add new sports to the Olympic program for just one Games. The disciplines added by the Japanese Olympic Committee were baseball and softball, karate, sport climbing, surfing and skateboarding, the last four of which made their Olympic debuts, and the last three of which will remain on the Olympic program.The United States topped the medal count by both total golds (39) and total medals (113), with China finishing second by both respects (38 and 89). Host nation Japan finished third, setting a record for the most gold medals and total medals ever won by their delegation at an Olympic Games with 27 and 58. Great Britain finished fourth, with a total of 22 gold and 64 medals. The Russian delegation competing as the ROC finished fifth with 20 gold medals and third in the overall medal count, with 71 medals. Bermuda, the Philippines and Qatar won their first-ever Olympic gold medals. Burkina Faso, San Marino and Turkmenistan also won their first-ever Olympic medals.'\n",
        "\"\"\"\n",
        "\n",
        "# From Azure documentation\n",
        "prompt = \"Who was the most decorated (maximum medals) individual athlete in the Olympic games that were held at Sydney? Take a step-by-step approach in your response, cite sources and give reasoning before sharing final answer in the below format: ANSWER is: <name>\"\n",
        "get_chat_completion(prompt)"
      ]
    },
    {
      "cell_type": "code",
      "execution_count": 75,
      "metadata": {
        "jupyter": {
          "outputs_hidden": false,
          "source_hidden": false
        },
        "nteract": {
          "transient": {
            "deleting": false
          }
        }
      },
      "outputs": [
        {
          "data": {
            "text/plain": [
              "'To solve this problem, we need to identify the top two countries who won the most gold medals in the 2020 Tokyo Olympics. According to the context, the United States topped the medal count by both total golds (39) and total medals (113), with China finishing second by both respects (38 and 89). Therefore, the top two countries are the United States and China.\\n\\nNext, we need to determine the time zone difference between the United States and China. The United States has multiple time zones, but we can use the Eastern Time Zone as a reference since it is the most populous. The Eastern Time Zone is 13 hours behind China Standard Time (CST). Therefore, the largest time zone difference between the United States and China is 13 hours.\\n\\nTherefore, the answer to the problem is that the largest time zone difference is 13 hours between the top two countries who won the most gold medals in the 2020 Tokyo Olympics, which are the United States and China'"
            ]
          },
          "execution_count": 75,
          "metadata": {},
          "output_type": "execute_result"
        }
      ],
      "source": [
        "# Another example\n",
        "prompt = f\"\"\"\n",
        "What is the largest time zone difference is between the top two countries who \n",
        "won the most gold medals in the 2020 Tokyo olympics?\n",
        "\n",
        "Use the context below and think aloud as you solve the problem, step-by-step.\n",
        "\n",
        "Context: {text}\n",
        "\"\"\"\n",
        "get_chat_completion(prompt)"
      ]
    },
    {
      "cell_type": "markdown",
      "metadata": {
        "nteract": {
          "transient": {
            "deleting": false
          }
        }
      },
      "source": [
        "#### Tactic 2: One-shot example \n",
        "Another common tactic is to provide one example of a query and an ideal response. The model will learn from that example and apply the patterns to a new question."
      ]
    },
    {
      "cell_type": "code",
      "execution_count": 76,
      "metadata": {
        "gather": {
          "logged": 1685053144682
        },
        "jupyter": {
          "outputs_hidden": false,
          "source_hidden": false
        },
        "nteract": {
          "transient": {
            "deleting": false
          }
        }
      },
      "outputs": [
        {
          "data": {
            "text/plain": [
              "'The United States has 74 medals that are not gold medals (113 total medals - 39 gold medals). \\n\\nGreat Britain has 42 medals that are not gold medals (64 total medals - 22 gold medals). \\n\\nTherefore, the United States has 32 more non-gold medals than Great Britain (74 - 42 = 32).'"
            ]
          },
          "execution_count": 76,
          "metadata": {},
          "output_type": "execute_result"
        }
      ],
      "source": [
        "# Notice how this response may not be ideal, or the most accurate.\n",
        "prompt = f\"\"\"\n",
        "    The United States has 113 total medals, 39 of which are gold medals. \n",
        "    \n",
        "    Great Britain has 64 medals and 22 gold medals. \n",
        "    \n",
        "    How many more silver and bronze medals does the United States have over Great Britain?\n",
        "\"\"\"\n",
        "\n",
        "get_chat_completion(prompt)"
      ]
    },
    {
      "cell_type": "code",
      "execution_count": 77,
      "metadata": {
        "jupyter": {
          "outputs_hidden": false,
          "source_hidden": false
        },
        "nteract": {
          "transient": {
            "deleting": false
          }
        }
      },
      "outputs": [
        {
          "data": {
            "text/plain": [
              "'[Step 1] - There are three types of medals: gold, silver, and bronze\\n[Step 2] - We know the gold and total counts of medals, so the number of silver and bronze medals is the difference between the gold (38) and total (89) counts. \\n            89-38=51, so there are 51 silver and bronze medals combined. The answer is 51.'"
            ]
          },
          "execution_count": 77,
          "metadata": {},
          "output_type": "execute_result"
        }
      ],
      "source": [
        "# Give the model a one-shot example to solve the question more thoroughly\n",
        "\n",
        "prompt = f\"\"\"\n",
        "Question: The United States has 113 total medals, 39 of which are gold medals. How many medals are silver or bronze?\n",
        "Answer:\n",
        "[Step 1] - There are three types of medals: gold, silver, and bronze\n",
        "[Step 2] - We know the gold and total counts of medals, so the number of silver and bronze medals is the difference between the gold (39) and total (113) counts. \n",
        "            113-39=74, so there are 74 silver and bronze medals combined. The answer is 74.\n",
        "\n",
        "===\n",
        "\n",
        "Answer the following question using similar steps above.\n",
        "\n",
        "Question: China has 89 total medals, 38 of which are gold medals. How many silver and bronze medals do they have?\n",
        "Answer:\n",
        "\"\"\"\n",
        "\n",
        "get_chat_completion(prompt)"
      ]
    },
    {
      "cell_type": "markdown",
      "metadata": {
        "nteract": {
          "transient": {
            "deleting": false
          }
        }
      },
      "source": [
        "#### Tactic 3: Chatbot chain-of-thought reasoning\n",
        "You can build in logic using variables so the chatbot can dynamically demonstrate specific ways of thinking about a problem.\n",
        "\n",
        "**The input place is at the top of the screen. You should see a popup. Type 'quit' if you want to exit.**"
      ]
    },
    {
      "cell_type": "code",
      "execution_count": 78,
      "metadata": {
        "jupyter": {
          "outputs_hidden": false,
          "source_hidden": false
        },
        "nteract": {
          "transient": {
            "deleting": false
          }
        }
      },
      "outputs": [
        {
          "name": "stdout",
          "output_type": "stream",
          "text": [
            "1\n",
            "\n",
            "Hello! I am the decision bot. What is the problem or scenario you need help with?\n",
            "\n",
            "\n",
            "Great! Let's start with step 1: What is the key element or variable in your decision to buy food?\n",
            "\n",
            "4\n",
            "\n",
            "Understood. Step 2: Can you tell me more about the relationship/connection between your health and the food you buy?\n",
            "\n",
            "6\n",
            "\n",
            "I apologize if my previous question was unclear. Let me rephrase it. How does the food you buy affect your health?\n",
            "\n",
            "8\n",
            "\n",
            "Thank you for clarifying. Step 3: Considering your preference for healthy food, what are the implications or context of this decision? For example, do you have any dietary restrictions or health concerns that you need to consider?\n",
            "\n",
            "10\n",
            "\n",
            "Great! Step 4: Based on your preference for healthy food and the fact that buying apples helps you, it seems like a good decision to buy apples. Therefore, my recommendation is to go ahead and buy apples. Is there anything else you need help with?\n",
            "\n",
            "12\n",
            "\n",
            "Alright then. Have a great day!\n",
            "\n",
            "14\n",
            "\n",
            "Thank you for the compliment! I'm here to help you make informed decisions. If you have any other questions or concerns in the future, don't hesitate to ask.\n",
            "\n",
            "16\n"
          ]
        }
      ],
      "source": [
        "# Ask the bot to help you make a decision such as deciding whether to take a job or choose between restaurants.\n",
        "# If the model does not immediately respond to your query, wait 1-5 seconds and retype it.\n",
        "# If it is not allowing you to give an input, restart the kernel in the navigation bar.\n",
        "# Type \"quit\" to end the session\n",
        "\n",
        "context = '''\n",
        "        You are a decision bot. Your job is to help come to decision by asking a series of questions one at a time and coming to a reasonable decision based on the information provided.\n",
        "\n",
        "        You will use the following format to help create the series of questions.\n",
        "\n",
        "        Template: \n",
        "        [Problem/Scenario/Question]: [Provide a brief description of the problem, scenario, or question.]\n",
        "\n",
        "        Chain of thought:\n",
        "\n",
        "        [Step 1]: Identify the [key element/variable] in the [problem/scenario/question].\n",
        "        [Step 2]: Understand the [relationship/connection] between [element A] and [element B].\n",
        "        [Step 3]: [Analyze/Evaluate/Consider] the [context/implication] of the [relationship/connection] between [element A] and [element B].\n",
        "        [Step 4]: [Conclude/Decide/Determine] the [outcome/solution] based on the [analysis/evaluation/consideration] of [element A], [element B], and their [relationship/connection].\n",
        "        [Answer/Conclusion/Recommendation]: [Provide a coherent and logical response based on the chain of thought.]\n",
        "\n",
        "        You will guide the user though a series of questions one at a time. The first question is broad, and they subsequent questions become more specific. \n",
        "\n",
        "        Begin by introducing yourself and asking the first question (step 1) only and nothing else, in simple and easy way.\n",
        "        '''\n",
        "\n",
        "conversation=[{\"role\": \"system\", \"content\": context}]\n",
        "\n",
        "while(True):\n",
        "    print(len(conversation))\n",
        "    if len(conversation) == 1:\n",
        "        response = get_completion_from_messages(conversation)\n",
        "        conversation.append({\"role\": \"assistant\", \"content\": response})\n",
        "        print(\"\\n\" + response + \"\\n\")\n",
        "    \n",
        "    user_input = input('Enter your response: ')\n",
        "    if user_input.lower() == \"quit\":\n",
        "        break \n",
        "    conversation.append({\"role\": \"user\", \"content\": user_input})\n",
        "    \n",
        "    response = get_completion_from_messages(conversation)\n",
        "    conversation.append({\"role\": \"assistant\", \"content\": response})\n",
        "    print(\"\\n\" + response + \"\\n\")\n"
      ]
    },
    {
      "cell_type": "markdown",
      "metadata": {
        "nteract": {
          "transient": {
            "deleting": false
          }
        }
      },
      "source": [
        "#### 2.2.2 - Chaining\n",
        "Similar to some earlier examples, you can use model outputs from previous queries into other queries. We will show you later in the Hack how to do this at scale."
      ]
    },
    {
      "cell_type": "code",
      "execution_count": 79,
      "metadata": {
        "gather": {
          "logged": 1685051679330
        },
        "jupyter": {
          "outputs_hidden": false,
          "source_hidden": false
        },
        "nteract": {
          "transient": {
            "deleting": false
          }
        }
      },
      "outputs": [
        {
          "name": "stdout",
          "output_type": "stream",
          "text": [
            "The 2020 Tokyo Olympics have come to an end, and the medal count has been tallied. The United States emerged as the clear winner, with a total of 113 medals, including 39 golds. China came in second with 89 medals, including 38 golds, while Japan took third place with 58 medals, including 27 golds.\n",
            "\n",
            "Great Britain and the Russian Olympic Committee (ROC) rounded out the top five, with 64 and 71 medals respectively. However, it's worth noting that the ROC's medal count was impacted by the fact that they were not allowed to compete under their own flag due to a doping scandal.\n",
            "\n",
            "While the top five countries dominated the medal count, there were also some surprising winners and losers. Bermuda, the Philippines, and Qatar all won their first-ever gold medals, while Burkina Faso failed to win any medals at all.\n",
            "\n",
            "Overall, the 2020 Olympics were a success for many countries, with athletes from around the\n",
            "world showcasing their talents and achieving their dreams. \"United States Dominates 2020 Olympics\"\n"
          ]
        }
      ],
      "source": [
        "# Extract medal counts for each country from the news article\n",
        "# Write an article about the summarized information\n",
        "# Provide a title for the summary\n",
        "\n",
        "text = f\"\"\"\n",
        "    The 2020 Summer Olympics, officially the Games of the XXXII Olympiad and also known as Tokyo 2020, was an international multi-sport event held from 23 July to 8 August 2021 in Tokyo, Japan, with some preliminary events that began on 21 July 2021. Tokyo was selected as the host city during the 125th IOC Session in Buenos Aires, Argentina, on 7 September 2013.Originally scheduled to take place from 24 July to 9 August 2020, the event was postponed to 2021 on 24 March 2020 due to the global COVID-19 pandemic, the first such instance in the history of the Olympic Games (previous games had been cancelled but not rescheduled). However, the event retained the Tokyo 2020 branding for marketing purposes. It was largely held behind closed doors with no public spectators permitted due to the declaration of a state of emergency in the Greater Tokyo Area in response to the pandemic, the first and only Olympic Games to be held without official spectators. The Games were the most expensive ever, with total spending of over $20 billion.The Games were the fourth Olympic Games to be held in Japan, following the 1964 Summer Olympics (Tokyo), 1972 Winter Olympics (Sapporo), and 1998 Winter Olympics (Nagano). Tokyo became the first city in Asia to hold the Summer Olympic Games twice. The 2020 Games were the second of three consecutive Olympics to be held in East Asia, following the 2018 Winter Olympics in Pyeongchang, South Korea and preceding the 2022 Winter Olympics in Beijing, China. Due to the one-year postponement, Tokyo 2020 was the first and only Olympic Games to have been held in an odd-numbered year and the first Summer Olympics since 1900 to be held in a non-leap year.\\nNew events were introduced in existing sports, including 3x3 basketball, freestyle BMX and mixed gender team events in a number of existing sports, as well as the return of madison cycling for men and an introduction of the same event for women. New IOC policies also allowed the host organizing committee to add new sports to the Olympic program for just one Games. The disciplines added by the Japanese Olympic Committee were baseball and softball, karate, sport climbing, surfing and skateboarding, the last four of which made their Olympic debuts, and the last three of which will remain on the Olympic program.The United States topped the medal count by both total golds (39) and total medals (113), with China finishing second by both respects (38 and 89). Host nation Japan finished third, setting a record for the most gold medals and total medals ever won by their delegation at an Olympic Games with 27 and 58. Great Britain finished fourth, with a total of 22 gold and 64 medals. The Russian delegation competing as the ROC finished fifth with 20 gold medals and third in the overall medal count, with 71 medals. Bermuda, the Philippines and Qatar won their first-ever Olympic gold medals. Burkina Faso, San Marino and Turkmenistan also won their first-ever Olympic medals.'\n",
        "\"\"\"\n",
        "\n",
        "prompt = f\"\"\"\n",
        "    Based on the context below, write a JSON object that contains the number of gold and total medals for each country.\n",
        "    Context: {text}\n",
        "\"\"\"\n",
        "num_medals_dict = get_chat_completion(prompt)\n",
        "\n",
        "prompt = f\"\"\"\n",
        "    Write a brief article about the winners and losers of the Olympics based on medal count:\n",
        "    {num_medals_dict}\n",
        "\"\"\"\n",
        "summary = get_chat_completion(prompt)\n",
        "print(summary)\n",
        "\n",
        "prompt = f\"\"\"\n",
        "    Give the summary a title in 5 words:\n",
        "    {summary}\n",
        "\"\"\"\n",
        "title = get_chat_completion(prompt)\n",
        "print(title)"
      ]
    },
    {
      "cell_type": "markdown",
      "metadata": {
        "nteract": {
          "transient": {
            "deleting": false
          }
        }
      },
      "source": [
        "#### Student Task (Chaining): \n",
        "\n",
        "Your job is now to write code that will determine the country that won the most silver and bronze medals combined.\n",
        "\n",
        "We can see that the model performs poorly on answering the question directly."
      ]
    },
    {
      "cell_type": "code",
      "execution_count": 80,
      "metadata": {
        "gather": {
          "logged": 1685053948700
        },
        "jupyter": {
          "outputs_hidden": false,
          "source_hidden": false
        },
        "nteract": {
          "transient": {
            "deleting": false
          }
        }
      },
      "outputs": [
        {
          "data": {
            "text/plain": [
              "'The context does not provide information on which country had the most silver and bronze medals.'"
            ]
          },
          "execution_count": 80,
          "metadata": {},
          "output_type": "execute_result"
        }
      ],
      "source": [
        "prompt = f\"\"\"\n",
        "    Based on the context, which country had the most silver and bronze medals?\n",
        "    Context: {text}\n",
        "\"\"\"\n",
        "\n",
        "get_chat_completion(prompt)"
      ]
    },
    {
      "cell_type": "code",
      "execution_count": 81,
      "metadata": {},
      "outputs": [
        {
          "data": {
            "text/plain": [
              "\"\\n    The 2020 Summer Olympics, officially the Games of the XXXII Olympiad and also known as Tokyo 2020, was an international multi-sport event held from 23 July to 8 August 2021 in Tokyo, Japan, with some preliminary events that began on 21 July 2021. Tokyo was selected as the host city during the 125th IOC Session in Buenos Aires, Argentina, on 7 September 2013.Originally scheduled to take place from 24 July to 9 August 2020, the event was postponed to 2021 on 24 March 2020 due to the global COVID-19 pandemic, the first such instance in the history of the Olympic Games (previous games had been cancelled but not rescheduled). However, the event retained the Tokyo 2020 branding for marketing purposes. It was largely held behind closed doors with no public spectators permitted due to the declaration of a state of emergency in the Greater Tokyo Area in response to the pandemic, the first and only Olympic Games to be held without official spectators. The Games were the most expensive ever, with total spending of over $20 billion.The Games were the fourth Olympic Games to be held in Japan, following the 1964 Summer Olympics (Tokyo), 1972 Winter Olympics (Sapporo), and 1998 Winter Olympics (Nagano). Tokyo became the first city in Asia to hold the Summer Olympic Games twice. The 2020 Games were the second of three consecutive Olympics to be held in East Asia, following the 2018 Winter Olympics in Pyeongchang, South Korea and preceding the 2022 Winter Olympics in Beijing, China. Due to the one-year postponement, Tokyo 2020 was the first and only Olympic Games to have been held in an odd-numbered year and the first Summer Olympics since 1900 to be held in a non-leap year.\\nNew events were introduced in existing sports, including 3x3 basketball, freestyle BMX and mixed gender team events in a number of existing sports, as well as the return of madison cycling for men and an introduction of the same event for women. New IOC policies also allowed the host organizing committee to add new sports to the Olympic program for just one Games. The disciplines added by the Japanese Olympic Committee were baseball and softball, karate, sport climbing, surfing and skateboarding, the last four of which made their Olympic debuts, and the last three of which will remain on the Olympic program.The United States topped the medal count by both total golds (39) and total medals (113), with China finishing second by both respects (38 and 89). Host nation Japan finished third, setting a record for the most gold medals and total medals ever won by their delegation at an Olympic Games with 27 and 58. Great Britain finished fourth, with a total of 22 gold and 64 medals. The Russian delegation competing as the ROC finished fifth with 20 gold medals and third in the overall medal count, with 71 medals. Bermuda, the Philippines and Qatar won their first-ever Olympic gold medals. Burkina Faso, San Marino and Turkmenistan also won their first-ever Olympic medals.'\\n\""
            ]
          },
          "execution_count": 81,
          "metadata": {},
          "output_type": "execute_result"
        }
      ],
      "source": [
        "text"
      ]
    },
    {
      "cell_type": "markdown",
      "metadata": {
        "nteract": {
          "transient": {
            "deleting": false
          }
        }
      },
      "source": [
        "Write prompts in the cell below that will help the model answer the question by breaking down the tasks into different steps.\n",
        "\n",
        "You should be able to get the model to answer the question in 2-3 steps."
      ]
    },
    {
      "cell_type": "code",
      "execution_count": 83,
      "metadata": {
        "jupyter": {
          "outputs_hidden": false,
          "source_hidden": false
        },
        "nteract": {
          "transient": {
            "deleting": false
          }
        }
      },
      "outputs": [
        {
          "data": {
            "text/plain": [
              "'Based on the context, Japan had the most silver and bronze medals. However, the context does not provide the exact number of silver and bronze medals won by Japan.'"
            ]
          },
          "execution_count": 83,
          "metadata": {},
          "output_type": "execute_result"
        }
      ],
      "source": [
        "# Write code here for student task\n",
        "\n",
        "\n",
        "# Extract medal counts for each country from the news article and output a JSON object\n",
        "prompt = f\"\"\"\n",
        "    Based on the context, write a JSON object that contains the number of gold and total medals for each country.\n",
        "    Context: {text}\n",
        "\"\"\"\n",
        "num_medals_dict = get_chat_completion(prompt)\n",
        "\n",
        "# Add a new key representing the silver and bronze medals to the JSON object\n",
        "prompt = f\"\"\"\n",
        "    Calculate the number of silver and bronze (non-gold medals) based on the difference between gold and total medals, and add these counts to the JSON with the key \"silver_bronze\":\n",
        "    {num_medals_dict}\n",
        "\"\"\"\n",
        "new_dict = get_chat_completion(prompt)\n",
        "\n",
        "# Identify the country with the most silver and bronze medals\n",
        "prompt = f\"\"\"\n",
        "    Which country had the most silver and bronze medals?\n",
        "    {new_dict}\n",
        "\"\"\"\n",
        "print(get_chat_completion(prompt))"
      ]
    },
    {
      "cell_type": "markdown",
      "metadata": {},
      "source": [
        "## Conclusion\n",
        "\n",
        "In this first challenge, we covered how to interact with the Azure OpenAI for different goals. Hopefully you were able to see the dynamic versatility of the models and how they can be used to solve a variety of problems using different techniques.\n",
        "\n",
        "We gave the API short pieces of text using fixed variables. In the next set of challenges, you will see how to use the API with larger datasets."
      ]
    }
  ],
  "metadata": {
    "kernel_info": {
      "name": "python38-azureml"
    },
    "kernelspec": {
      "display_name": "Python 3 (ipykernel)",
      "language": "python",
      "name": "python3"
    },
    "language_info": {
      "codemirror_mode": {
        "name": "ipython",
        "version": 3
      },
      "file_extension": ".py",
      "mimetype": "text/x-python",
      "name": "python",
      "nbconvert_exporter": "python",
      "pygments_lexer": "ipython3",
      "version": "3.10.13"
    },
    "microsoft": {
      "host": {
        "AzureML": {
          "notebookHasBeenCompleted": true
        }
      },
      "ms_spell_check": {
        "ms_spell_check_language": "en"
      }
    },
    "nteract": {
      "version": "nteract-front-end@1.0.0"
    }
  },
  "nbformat": 4,
  "nbformat_minor": 2
}
